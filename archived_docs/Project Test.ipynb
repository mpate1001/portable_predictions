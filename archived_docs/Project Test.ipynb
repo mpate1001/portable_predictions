{
 "cells": [
  {
   "cell_type": "code",
   "execution_count": 14,
   "id": "21a2952d-7eca-467e-894a-dda5ae6aee64",
   "metadata": {},
   "outputs": [
    {
     "name": "stdout",
     "output_type": "stream",
     "text": [
      "acs_housing_final rows: 209,431\n",
      "Querying DB...\n",
      "\n",
      "Sample rows:\n",
      "        serialno       valp     hincp     fincp  bds  yrblt  np  region  puma  \\\n",
      "0  2018HU0654721   175000.0   50000.0   50000.0    3   1980   2       4    -9   \n",
      "1  2018HU0654727  2100000.0  235000.0  235000.0    5   2000   2       4    -9   \n",
      "2  2018HU0654730   180000.0   40100.0   40100.0    3   1970   2       4    -9   \n",
      "3  2018HU0654829   600000.0  106400.0  106400.0    3   1940   9       4    -9   \n",
      "4  2018HU0654843   700000.0  315000.0  315000.0    4   1960   4       4    -9   \n",
      "\n",
      "   house_age   zip county  \n",
      "0         45  None   None  \n",
      "1         25  None   None  \n",
      "2         55  None   None  \n",
      "3         85  None   None  \n",
      "4         65  None   None  \n",
      "\n",
      "Columns: ['serialno', 'valp', 'hincp', 'fincp', 'bds', 'yrblt', 'np', 'region', 'puma', 'house_age', 'zip', 'county']\n",
      "\n",
      "Shape: (209949, 12)\n",
      "\n",
      "Unique ZIPs: 4\n",
      "\n",
      "Ready for model training!\n"
     ]
    }
   ],
   "source": [
    "import pandas as pd\n",
    "from sqlalchemy import create_engine, text\n",
    "\n",
    "# -------------------------------------\n",
    "# DATABASE CONNECTION\n",
    "# -------------------------------------\n",
    "\n",
    "db_url = (\n",
    "    \"postgres://ufnbfacj9c7u80:\"\n",
    "    \"pa129f8c5adad53ef2c90db10cce0c899f8c7bdad022cca4e85a8729b19aad68d\"\n",
    "    \"@ceq2kf3e33g245.cluster-czrs8kj4isg7.us-east-1.rds.amazonaws.com:5432/d9f89h4ju1lleh\"\n",
    ")\n",
    "\n",
    "db_url = db_url.replace(\"postgres://\", \"postgresql://\")\n",
    "engine = create_engine(db_url)\n",
    "\n",
    "# -------------------------------------\n",
    "# CHECK COUNTS (optional)\n",
    "# -------------------------------------\n",
    "\n",
    "with engine.connect() as conn:\n",
    "    row_count = conn.execute(text(\"SELECT COUNT(*) FROM acs_housing_final\")).scalar()\n",
    "    print(f\"acs_housing_final rows: {row_count:,}\")\n",
    "\n",
    "# -------------------------------------\n",
    "# SQL\n",
    "# -------------------------------------\n",
    "\n",
    "query = \"\"\"\n",
    "    SELECT\n",
    "        ahf.serialno,\n",
    "        ahf.valp,\n",
    "        ahf.hincp,\n",
    "        ahf.fincp,\n",
    "        ahf.bds,\n",
    "        ahf.yrblt,\n",
    "        ahf.np,\n",
    "        ahf.region,\n",
    "        ahf.puma_normalized AS puma,\n",
    "        ahf.house_age,\n",
    "        gcz.zip,\n",
    "        gcz.county\n",
    "    FROM acs_housing_final ahf\n",
    "    LEFT JOIN geo_corr_zip gcz\n",
    "        ON ahf.puma_normalized::text = gcz.puma22\n",
    "    WHERE ahf.valp > 0\n",
    "\"\"\"\n",
    "\n",
    "print(\"Querying DB...\")\n",
    "df = pd.read_sql(query, engine)\n",
    "\n",
    "print(\"\\nSample rows:\")\n",
    "print(df.head())\n",
    "\n",
    "print(\"\\nColumns:\", df.columns.tolist())\n",
    "print(\"\\nShape:\", df.shape)\n",
    "print(\"\\nUnique ZIPs:\", df[\"zip\"].nunique())\n",
    "\n",
    "# -------------------------------------\n",
    "# Ready for ML prep\n",
    "# -------------------------------------\n",
    "\n",
    "# Example: Create log target and safe numeric types\n",
    "df[\"valp_log\"] = df[\"valp\"].clip(lower=1).apply(lambda x: np.log(x))\n",
    "df[\"hincp\"] = pd.to_numeric(df[\"hincp\"], errors=\"coerce\").fillna(0)\n",
    "df[\"fincp\"] = pd.to_numeric(df[\"fincp\"], errors=\"coerce\").fillna(0)\n",
    "\n",
    "print(\"\\nReady for model training!\")"
   ]
  },
  {
   "cell_type": "code",
   "execution_count": null,
   "id": "3c84ae6a-a4f5-4c11-8b41-96e6d7e559f6",
   "metadata": {},
   "outputs": [],
   "source": []
  }
 ],
 "metadata": {
  "kernelspec": {
   "display_name": "Python 3 (ipykernel)",
   "language": "python",
   "name": "python3"
  },
  "language_info": {
   "codemirror_mode": {
    "name": "ipython",
    "version": 3
   },
   "file_extension": ".py",
   "mimetype": "text/x-python",
   "name": "python",
   "nbconvert_exporter": "python",
   "pygments_lexer": "ipython3",
   "version": "3.12.7"
  },
  "widgets": {
   "application/vnd.jupyter.widget-state+json": {
    "state": {},
    "version_major": 2,
    "version_minor": 0
   }
  }
 },
 "nbformat": 4,
 "nbformat_minor": 5
}
